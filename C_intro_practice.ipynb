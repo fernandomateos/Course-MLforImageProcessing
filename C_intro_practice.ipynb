{
  "cells": [
    {
      "cell_type": "markdown",
      "metadata": {
        "id": "view-in-github",
        "colab_type": "text"
      },
      "source": [
        "<a href=\"https://colab.research.google.com/github/fernandomateos/Course-MLforImageProcessing/blob/gh-pages/C_intro_practice.ipynb\" target=\"_parent\"><img src=\"https://colab.research.google.com/assets/colab-badge.svg\" alt=\"Open In Colab\"/></a>"
      ]
    },
    {
      "cell_type": "markdown",
      "source": [
        "# Online course \"Machine learning based image collection, annotation and classification\": Intro Practice [🔗](https://fishsizeproject.github.io/Course-MLforImageProcessing/)"
      ],
      "metadata": {
        "id": "4R5TSFvRhaDq"
      }
    },
    {
      "cell_type": "markdown",
      "source": [
        "## Welcome!\n",
        "\n",
        "## Intro Practice: Basics of computer vision with Python\n",
        "\n",
        "This is the first notebook of the online course on using machine learning tools for image processing practice.\n",
        "\n",
        "You can modify this notebook directly and work on the exercices but don't forget to save a copy in your Goodle Drive (in the _File_ tab)! \n",
        "\n",
        "Note, when you work on Google Colab, you need to load and import your data every time you start your session. So if you worked on your code and data yesterday and then closed the session, you will need to run all the code from the beginning. \n",
        "\n",
        "To run the code below you just need to click on the small triangle on the top left corner. You can modify the code too and run the chunk of code again. \n",
        "\n",
        "Below we provide two ways of importing your image datasets into Google Colab environment. You can either use our or your own image dataset stored on **GitHub** (first example below) or bring your own data stored on **Google Drive** (second example below). \n",
        "\n",
        "For this introductory practice we will use only one image so you do not need to run the examples 1 or 2 that show how to mount the full dataset. You can just run the _wget_ command in the next chunk and skip the first and second example. But feel free to practice mounting the dataset we are providing on GitHub or your own dataset."
      ],
      "metadata": {
        "id": "5qyBHs3fpZA-"
      }
    },
    {
      "cell_type": "markdown",
      "metadata": {
        "id": "ZAfPfRtoEf6C"
      },
      "source": [
        "# Intro Practice: Basics of computer vision with Python\n"
      ]
    },
    {
      "cell_type": "markdown",
      "source": [
        "Google Colab is built on Linux so we can execute Linux commands in Colab using the exclamation mark \"!\". This is similar to what we would do if running a Jupyter notebook locally, if we wanted to execute commands from the underlying operating system.\n",
        "\n",
        "One of the commands to retrieve datasets is _wget_. _wget_ stands for 'web get' and as the name says, this command retrieves the dataset directly from the source straight to Google Colab environment."
      ],
      "metadata": {
        "id": "dVNrOsmfc6n6"
      }
    },
    {
      "cell_type": "code",
      "source": [
        "!wget https://raw.githubusercontent.com/fishsizeproject/Course-MLforImageProcessing/dev/images/practice_images/195.PNG"
      ],
      "metadata": {
        "id": "aB1H0OEjc6yZ"
      },
      "execution_count": null,
      "outputs": []
    },
    {
      "cell_type": "markdown",
      "metadata": {
        "id": "bkzhSeWqEf6L"
      },
      "source": [
        "## First example of importing the data: download and mount the dataset from **GitHub**"
      ]
    },
    {
      "cell_type": "markdown",
      "metadata": {
        "id": "q1_k9xQHEf6N"
      },
      "source": [
        "There are many different ways to read images in colab notebooks: directly from the internet using a URL, from a cloud storage such as Google cloud, locally from your computer or from a GitHub folder, as we will demonstrate here.\n",
        "\n",
        "In this course, we are providing an example dataset of fish images. The images were provided by [MyCatch](https://mycatch.ca/) and [Fishial](https://fishial.ai/) and are stored on the [FishSizeProject GitHub account](https://github.com/fishsizeproject/Course-MLforImageProcessing/). We will clone the course GitHub folder to have access to these images here on Colab.\n",
        "\n",
        "To do the cloning we will need to use two Python modules (or libraries in R):  *os* and *os.path*. These, and many other Python's standard utility modules, are already installed on Google Colab, so we only need to load or import them. \n",
        "\n",
        "The OS module in Python includes functions to interact with the file system, e.g. creating and removing a directory (folder), fetching its contents, changing and identifying the current directory and so on. \n"
      ]
    },
    {
      "cell_type": "code",
      "source": [
        "import os\n",
        "\n",
        "git_folder = \"fishsizeproject/Course-MLforImageProcessing\"\n",
        "if os.path.exists(git_folder) == False:\n",
        "   !git clone --branch dev https://github.com/fishsizeproject/Course-MLforImageProcessing.git  \n",
        "path_to_images = git_folder "
      ],
      "metadata": {
        "id": "vcsW2E8Wf2sX"
      },
      "execution_count": null,
      "outputs": []
    },
    {
      "cell_type": "markdown",
      "source": [
        "## Second example of importing the data: download and mount the dataset from **Google Drive**"
      ],
      "metadata": {
        "id": "iAyufgu3eh0C"
      }
    },
    {
      "cell_type": "markdown",
      "source": [
        "If you are bringing your own dataset and have uploaded the images to your local Google Drive you can mount the folder by running the script below. You will be asked to _Connect to Google Drive_ and _Sign In_ into your Google account. After allowing the Google Drive to access your Google Account you will see the text \"Mounted at /content/gdrive\" below the script.\n"
      ],
      "metadata": {
        "id": "j4IFUf4hiHq2"
      }
    },
    {
      "cell_type": "code",
      "source": [
        "from google.colab import drive\n",
        "drive.mount('/content/gdrive')"
      ],
      "metadata": {
        "id": "ZKD_zJZAhf7t"
      },
      "execution_count": null,
      "outputs": []
    },
    {
      "cell_type": "markdown",
      "source": [
        "Your Google Drive is now mounted into this notebook, you just need to change the path to the files when readig the image using `cv2.imread()` below. You can also navigate the folders of your Google Drive in the left bar menu where you see all the files. Go to `gdrive` folder. \n"
      ],
      "metadata": {
        "id": "-xLPIIMDjU_4"
      }
    },
    {
      "cell_type": "markdown",
      "metadata": {
        "id": "UhtRguFVEf6Q"
      },
      "source": [
        "## Reading images in Python"
      ]
    },
    {
      "cell_type": "markdown",
      "metadata": {
        "id": "bUDE36G0Ef6Q"
      },
      "source": [
        "We are going to use the OpenCV library. "
      ]
    },
    {
      "cell_type": "markdown",
      "metadata": {
        "id": "vL9h80zWEf6R"
      },
      "source": [
        "### Install OpenCV"
      ]
    },
    {
      "cell_type": "markdown",
      "metadata": {
        "id": "65v157RyEf6S"
      },
      "source": [
        "OpenCV comes preinstalled on Google colab. So we just have to simply import cv2 and use it."
      ]
    },
    {
      "cell_type": "code",
      "execution_count": null,
      "metadata": {
        "id": "HVoik9ZDEf6T"
      },
      "outputs": [],
      "source": [
        "import cv2\n",
        "cv2.__version__"
      ]
    },
    {
      "cell_type": "markdown",
      "metadata": {
        "id": "1YXNak2MEf6U"
      },
      "source": [
        "### Reading images"
      ]
    },
    {
      "cell_type": "markdown",
      "source": [
        "Let's have a look if the image is in the current directory by using the command `ls` to list all files."
      ],
      "metadata": {
        "id": "rhnd_wiRPWln"
      }
    },
    {
      "cell_type": "code",
      "source": [
        "ls"
      ],
      "metadata": {
        "id": "SrynMYOSCZoL"
      },
      "execution_count": null,
      "outputs": []
    },
    {
      "cell_type": "markdown",
      "metadata": {
        "id": "FYMGSzmMEf6U"
      },
      "source": [
        "The `imread()` function is used to read an image and store it as an object in the notebook. Previously we mounted images into the Google Colab environment but have not read them into the working environment (or running session).\n",
        "\n"
      ]
    },
    {
      "cell_type": "code",
      "source": [
        "img = cv2.imread('195.PNG')"
      ],
      "metadata": {
        "id": "kR2PSMr4KIkW"
      },
      "execution_count": null,
      "outputs": []
    },
    {
      "cell_type": "code",
      "source": [
        "#print its shape\n",
        "print('Image Dimensions :', img.shape)"
      ],
      "metadata": {
        "id": "4MbIdEo7BYcl"
      },
      "execution_count": null,
      "outputs": []
    },
    {
      "cell_type": "markdown",
      "source": [
        "`imread()` decodes the image into a matrix with the color channels stored in the order of Blue, Green, Red and A (Transparency) respectively.\n",
        "\n",
        "Therefore, imread() returns a 2D or 3D matrix (a NumPy array) based on the number of color channels present in the image. For a binary or gray scale image, it will print a 2D array and for a colored image, it will print a 3D array.\n",
        "\n",
        "Have a look at the array:"
      ],
      "metadata": {
        "id": "v79YwIG4Bjjg"
      }
    },
    {
      "cell_type": "code",
      "source": [
        "img"
      ],
      "metadata": {
        "id": "peDI4DOAABNy"
      },
      "execution_count": null,
      "outputs": []
    },
    {
      "cell_type": "markdown",
      "source": [
        "Maybe you also noticed that the data type of our object `img` (now a matrix) is `dtype=uint8`. This means _Unsigned Integers of 8 bits_. A uint8 data type contains all whole numbers from 0 to 255, which correspond to the colour range in the RGB system."
      ],
      "metadata": {
        "id": "his99jFLiUK0"
      }
    },
    {
      "cell_type": "code",
      "source": [
        "img.dtype"
      ],
      "metadata": {
        "id": "OEIdLC8F7gtK"
      },
      "execution_count": null,
      "outputs": []
    },
    {
      "cell_type": "markdown",
      "metadata": {
        "id": "18JeGIM1Ef6V"
      },
      "source": [
        "### Displaying images"
      ]
    },
    {
      "cell_type": "markdown",
      "source": [
        "To display the image `img` we will import the [matplotlib](https://matplotlib.org/) library that is used for visualisation in Python. We will use this library to display the image here in the notebook. In Python libraries consist of many modules which have multiple functions. Python allows importing only separate modules from a library. Here we will import only the pyplot module from the matplotlib library."
      ],
      "metadata": {
        "id": "JjFNQKWajc7n"
      }
    },
    {
      "cell_type": "code",
      "source": [
        "from matplotlib import pyplot as plt\n",
        "\n",
        "plt.figure(figsize=(10, 10))\n",
        "plt.axis('off')\n",
        "plt.imshow(img)\n",
        "plt.show()"
      ],
      "metadata": {
        "id": "lQ55pbY-jW12"
      },
      "execution_count": null,
      "outputs": []
    },
    {
      "cell_type": "markdown",
      "source": [
        "But the colors of our image are clearly wrong!\n",
        "\n",
        "This is because OpenCV represents RGB images as multi-dimensional arrays but in reverse order, which means that images are actually represented in BGR order rather than RGB.\n",
        "\n",
        "Therefore, we need to convert the image from BGR to RGB.\n",
        "\n",
        "For that we will use a function from cv2 to display the same matrix but converted from BGR into RGB.\n"
      ],
      "metadata": {
        "id": "lB9-PyEPDlJS"
      }
    },
    {
      "cell_type": "code",
      "source": [
        "plt.figure(figsize=(10, 10))\n",
        "plt.axis('off')\n",
        "plt.imshow(cv2.cvtColor(img, cv2.COLOR_BGR2RGB))\n",
        "plt.show()"
      ],
      "metadata": {
        "id": "tWEjC0IckjUm"
      },
      "execution_count": null,
      "outputs": []
    },
    {
      "cell_type": "markdown",
      "source": [
        "# Defining functions in Python"
      ],
      "metadata": {
        "id": "463ktFahld-U"
      }
    },
    {
      "cell_type": "markdown",
      "source": [
        "Functions in Python are a group of related statements that perform a specific task.\n",
        "\n",
        "Functions help break our script into smaller and modular pieces and make it more organized and manageable. They also avoid repetition and make the code reusable (specially when we will atart applying the code to more than one image simultaneously, as you will notice in the next few sessions of this course).\n",
        "\n",
        "As a general example, lets define a simple function that greets the person using the name, passed in as a parameter (word 'name'):"
      ],
      "metadata": {
        "id": "w4jlzfAEmN7p"
      }
    },
    {
      "cell_type": "code",
      "source": [
        "def greet(name):\n",
        "    print(\"Hello, \" + name + \". Good morning!\")"
      ],
      "metadata": {
        "id": "U8KPGdBemLQR"
      },
      "execution_count": null,
      "outputs": []
    },
    {
      "cell_type": "markdown",
      "source": [
        "To call a function we simply type the function name with the appropriate parameters.\n",
        "\n",
        "Now lets greet Charles:"
      ],
      "metadata": {
        "id": "Bo5FhAvimYDl"
      }
    },
    {
      "cell_type": "code",
      "source": [
        "greet('Charles')"
      ],
      "metadata": {
        "id": "xfG8-QA-mXNR"
      },
      "execution_count": null,
      "outputs": []
    },
    {
      "cell_type": "markdown",
      "source": [
        "Similarly we can define a function to visualize an image:\n"
      ],
      "metadata": {
        "id": "JJAPS5VJ8vCd"
      }
    },
    {
      "cell_type": "code",
      "execution_count": null,
      "metadata": {
        "id": "PFjkt9VdEf6V"
      },
      "outputs": [],
      "source": [
        "from matplotlib import pyplot as plt\n",
        "\n",
        "def visualize(image):\n",
        "    plt.figure(figsize=(10, 10))\n",
        "    plt.axis('off')\n",
        "    plt.imshow(image)\n",
        "    plt.show()"
      ]
    },
    {
      "cell_type": "markdown",
      "source": [
        "And call the function with the `img` parameter:"
      ],
      "metadata": {
        "id": "xvj96YH8nokq"
      }
    },
    {
      "cell_type": "code",
      "source": [
        "visualize(img)"
      ],
      "metadata": {
        "id": "ktCjbhb--etV"
      },
      "execution_count": null,
      "outputs": []
    },
    {
      "cell_type": "markdown",
      "source": [
        "## Exercise \n",
        "\n"
      ],
      "metadata": {
        "id": "DsroXFyaGuxR"
      }
    },
    {
      "cell_type": "markdown",
      "source": [
        "Define and call the function `visualize_RGB()` to visualize the image in the correct RGB order.\n"
      ],
      "metadata": {
        "id": "Ugw-GMym6h0s"
      }
    },
    {
      "cell_type": "code",
      "source": [],
      "metadata": {
        "id": "zHM4ARuLoKBg"
      },
      "execution_count": null,
      "outputs": []
    }
  ],
  "metadata": {
    "kernelspec": {
      "display_name": "Python 3.10.1 64-bit",
      "language": "python",
      "name": "python3"
    },
    "language_info": {
      "codemirror_mode": {
        "name": "ipython",
        "version": 3
      },
      "file_extension": ".py",
      "mimetype": "text/x-python",
      "name": "python",
      "nbconvert_exporter": "python",
      "pygments_lexer": "ipython3",
      "version": "3.10.1"
    },
    "orig_nbformat": 4,
    "vscode": {
      "interpreter": {
        "hash": "949777d72b0d2535278d3dc13498b2535136f6dfe0678499012e853ee9abcab1"
      }
    },
    "colab": {
      "provenance": [],
      "collapsed_sections": [],
      "toc_visible": true,
      "include_colab_link": true
    }
  },
  "nbformat": 4,
  "nbformat_minor": 0
}