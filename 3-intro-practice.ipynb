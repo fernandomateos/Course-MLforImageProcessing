{
  "cells": [
    {
      "cell_type": "markdown",
      "source": [
        "## Welcome!\n",
        "\n",
        "## Intro Practice: Basics of computer vision with Python\n",
        "\n",
        "This is the first notebook of the online course on using machine learning tools for image processing practice.\n",
        "\n",
        "To work on the exercices you can open this notebook by clicking the badge below.\n",
        "This will open a new notebook for your personal use and you can modify it and don't forget to save it! "
      ],
      "metadata": {
        "id": "5qyBHs3fpZA-"
      }
    },
    {
      "cell_type": "markdown",
      "source": [
        "[![Open In Colab](https://colab.research.google.com/assets/colab-badge.svg)](https://github.com/fishsizeproject/Course-MLforImageProcessing/blob/dev/3-intro-practice.ipynb)"
      ],
      "metadata": {
        "id": "89lQZHHej6g7"
      }
    },
    {
      "cell_type": "markdown",
      "metadata": {
        "id": "ZAfPfRtoEf6C"
      },
      "source": [
        "# Intro Practice: Basics of computer vision with Python\n"
      ]
    },
    {
      "cell_type": "markdown",
      "metadata": {
        "id": "bkzhSeWqEf6L"
      },
      "source": [
        "## Download and mount the dataset from Github"
      ]
    },
    {
      "cell_type": "markdown",
      "metadata": {
        "id": "q1_k9xQHEf6N"
      },
      "source": [
        "There are many different ways to read images in colab notebooks: directly from the internet using a URL, from the a cloud storage such as google cloud, locally from your computer or from a github folder, as we will demonstrate here.\n",
        "\n",
        "For that, we will need the *os* and *os.path* modules, which come preinstalled under Python's standard utility modules in colab - this means we just need to import it. \n",
        "\n",
        "The OS module in Python provides include many functions to interact with the file system, such as functions for creating and removing a directory (folder), fetching its contents, changing and identifying the current directory, etc. "
      ]
    },
    {
      "cell_type": "code",
      "execution_count": null,
      "metadata": {
        "id": "nSQx8o6fEf6O"
      },
      "outputs": [],
      "source": [
        "import os\n",
        "\n",
        "git_folder = \"fishsizeproject/Course-MLforImageProcessing\"\n",
        "if os.path.exists(git_folder) == False:\n",
        "   !git clone --branch dev https://github.com/fishsizeproject/Course-MLforImageProcessing.git  #### CHANGE BRANCH TO MAIN !\n",
        "\n",
        "path_to_images = git_folder "
      ]
    },
    {
      "cell_type": "markdown",
      "source": [
        "## Download and mount the dataset from dropbox"
      ],
      "metadata": {
        "id": "ks9bv_oIeqLp"
      }
    },
    {
      "cell_type": "markdown",
      "source": [
        "## Download and mount the dataset from Google Drive"
      ],
      "metadata": {
        "id": "iAyufgu3eh0C"
      }
    },
    {
      "cell_type": "markdown",
      "metadata": {
        "id": "UhtRguFVEf6Q"
      },
      "source": [
        "## Reading images in Python"
      ]
    },
    {
      "cell_type": "markdown",
      "metadata": {
        "id": "bUDE36G0Ef6Q"
      },
      "source": [
        "We are going to use the OpenCV library. It is written in C++ and it is a rich and widely used library in computer vision."
      ]
    },
    {
      "cell_type": "markdown",
      "metadata": {
        "id": "vL9h80zWEf6R"
      },
      "source": [
        "### Install OpenCV"
      ]
    },
    {
      "cell_type": "markdown",
      "metadata": {
        "id": "65v157RyEf6S"
      },
      "source": [
        "OpenCV comes preinstalled on Google colab. So we just have to simply import cv2 and use it."
      ]
    },
    {
      "cell_type": "code",
      "execution_count": null,
      "metadata": {
        "id": "HVoik9ZDEf6T"
      },
      "outputs": [],
      "source": [
        "import cv2\n",
        "cv2.__version__"
      ]
    },
    {
      "cell_type": "code",
      "source": [
        "ls"
      ],
      "metadata": {
        "id": "6qdcryEZ8NFG"
      },
      "execution_count": null,
      "outputs": []
    },
    {
      "cell_type": "markdown",
      "metadata": {
        "id": "1YXNak2MEf6U"
      },
      "source": [
        "### Reading images"
      ]
    },
    {
      "cell_type": "markdown",
      "metadata": {
        "id": "FYMGSzmMEf6U"
      },
      "source": [
        "The `imread()` function is used to read an image"
      ]
    },
    {
      "cell_type": "code",
      "execution_count": null,
      "metadata": {
        "id": "AS4SmwEiEf6U"
      },
      "outputs": [],
      "source": [
        "img = cv2.imread('./Course-MLforImageProcessing/images/3-intro-practice/195.PNG')"
      ]
    },
    {
      "cell_type": "code",
      "source": [
        "#print its shape\n",
        "print('Image Dimensions :', img.shape)"
      ],
      "metadata": {
        "colab": {
          "base_uri": "https://localhost:8080/"
        },
        "id": "4MbIdEo7BYcl",
        "outputId": "fbd75b44-18ef-466a-82fe-377bda05f61d"
      },
      "execution_count": null,
      "outputs": [
        {
          "output_type": "stream",
          "name": "stdout",
          "text": [
            "Image Dimensions : (741, 566, 3)\n"
          ]
        }
      ]
    },
    {
      "cell_type": "markdown",
      "source": [
        "imread() decodes the image into a matrix with the color channels stored in the order of Blue, Green, Red and A (Transparency) respectively.\n",
        "\n",
        "Therefore, imread() returns a 2D or 3D matrix (a NumPy array) based on the number of color channels present in the image. For a binary or grey scale image, it will print a 2D array and for a colored image, it will print a 3D array."
      ],
      "metadata": {
        "id": "v79YwIG4Bjjg"
      }
    },
    {
      "cell_type": "code",
      "source": [
        "img.dtype"
      ],
      "metadata": {
        "id": "OEIdLC8F7gtK"
      },
      "execution_count": null,
      "outputs": []
    },
    {
      "cell_type": "code",
      "source": [
        "img"
      ],
      "metadata": {
        "id": "peDI4DOAABNy"
      },
      "execution_count": null,
      "outputs": []
    },
    {
      "cell_type": "markdown",
      "metadata": {
        "id": "18JeGIM1Ef6V"
      },
      "source": [
        "### Displaying images"
      ]
    },
    {
      "cell_type": "markdown",
      "source": [
        "Define a function to visualize the image."
      ],
      "metadata": {
        "id": "JJAPS5VJ8vCd"
      }
    },
    {
      "cell_type": "code",
      "execution_count": null,
      "metadata": {
        "id": "PFjkt9VdEf6V"
      },
      "outputs": [],
      "source": [
        "from matplotlib import pyplot as plt\n",
        "\n",
        "def visualize(image):\n",
        "    plt.figure(figsize=(10, 10))\n",
        "    plt.axis('off')\n",
        "    plt.imshow(image)\n",
        "    plt.show()"
      ]
    },
    {
      "cell_type": "code",
      "source": [
        "visualize(img)"
      ],
      "metadata": {
        "id": "ktCjbhb--etV"
      },
      "execution_count": null,
      "outputs": []
    },
    {
      "cell_type": "markdown",
      "source": [
        "But the colors of our image are clearly wrong!\n",
        "\n",
        "This is because OpenCV represents RGB images as multi-dimensional NumPy arrays but in reverse order, which means that images are actually represented in BGR order rather than RGB.\n",
        "\n",
        "Therefore, we need to convert the image from BGR to RGB.\n",
        "\n",
        "For that we will define a new function `visualize_RGB()`"
      ],
      "metadata": {
        "id": "lB9-PyEPDlJS"
      }
    },
    {
      "cell_type": "code",
      "source": [
        "def visualize_RGB(image):\n",
        "    plt.figure(figsize=(10, 10))\n",
        "    plt.axis('off')\n",
        "    plt.imshow(cv2.cvtColor(image, cv2.COLOR_BGR2RGB))\n",
        "    plt.show()\n",
        "\n",
        "visualize_RGB(img)"
      ],
      "metadata": {
        "id": "1dLpaN2GD5er"
      },
      "execution_count": null,
      "outputs": []
    },
    {
      "cell_type": "markdown",
      "source": [
        "As an alternative, it is also possible to pass a value for a flag, which is the second argument. \n",
        "\n",
        "For loading an image that includes an alpha channel It is possible to use integers 1, 0 or -1:"
      ],
      "metadata": {
        "id": "I8UKZIjf-6pT"
      }
    },
    {
      "cell_type": "markdown",
      "source": [
        "## Exercise\n",
        "\n"
      ],
      "metadata": {
        "id": "DsroXFyaGuxR"
      }
    },
    {
      "cell_type": "markdown",
      "source": [
        "Create your own image from a numpy array. \n",
        "\n",
        "Note that you will have to modify the array’s data-type to \n",
        "*uint8* to use the `visualize` function as the predefined is *int64*.\n"
      ],
      "metadata": {
        "id": "Ugw-GMym6h0s"
      }
    },
    {
      "cell_type": "code",
      "source": [
        "import numpy as np"
      ],
      "metadata": {
        "id": "R48kgXu-h7cY"
      },
      "execution_count": null,
      "outputs": []
    },
    {
      "cell_type": "code",
      "source": [],
      "metadata": {
        "id": "RlFfw3C6wyjP"
      },
      "execution_count": null,
      "outputs": []
    }
  ],
  "metadata": {
    "kernelspec": {
      "display_name": "Python 3.10.1 64-bit",
      "language": "python",
      "name": "python3"
    },
    "language_info": {
      "codemirror_mode": {
        "name": "ipython",
        "version": 3
      },
      "file_extension": ".py",
      "mimetype": "text/x-python",
      "name": "python",
      "nbconvert_exporter": "python",
      "pygments_lexer": "ipython3",
      "version": "3.10.1"
    },
    "orig_nbformat": 4,
    "vscode": {
      "interpreter": {
        "hash": "949777d72b0d2535278d3dc13498b2535136f6dfe0678499012e853ee9abcab1"
      }
    },
    "colab": {
      "provenance": [],
      "collapsed_sections": [],
      "toc_visible": true
    }
  },
  "nbformat": 4,
  "nbformat_minor": 0
}